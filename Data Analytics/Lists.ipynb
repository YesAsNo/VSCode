{
 "cells": [
  {
   "cell_type": "code",
   "execution_count": 60,
   "metadata": {},
   "outputs": [
    {
     "name": "stdout",
     "output_type": "stream",
     "text": [
      "['chair', 'table']\n",
      "sofa\n",
      "sofa\n"
     ]
    }
   ],
   "source": [
    "furniture = [\"chair\", \"table\", \"shelf\", \"bed\", \"sofa\", \"sofa\"]\n",
    "print(furniture[:2])\n",
    "for specific in furniture:\n",
    "    if specific == \"sofa\":\n",
    "        print(specific)"
   ]
  },
  {
   "cell_type": "code",
   "execution_count": 59,
   "metadata": {},
   "outputs": [
    {
     "name": "stdout",
     "output_type": "stream",
     "text": [
      "[5, 3, 9, 10, 3]\n",
      "30\n",
      "10\n"
     ]
    }
   ],
   "source": [
    "import random\n",
    "\n",
    "# thrownDiceNumber = [random.randint(1, 10), random.randint(1, 10), random.randint(1, 10), random.randint(1, 10), random.randint(1, 10)]\n",
    "thrownDiceNumber = []\n",
    "for i in range(5):\n",
    "    thrownDiceNumber.append(random.randint(1, 10))\n",
    "\n",
    "sumOfList = sum(thrownDiceNumber)\n",
    "maxOfList = max(thrownDiceNumber)\n",
    "print(thrownDiceNumber)\n",
    "print(sumOfList)\n",
    "print(maxOfList)"
   ]
  },
  {
   "cell_type": "code",
   "execution_count": 58,
   "metadata": {},
   "outputs": [
    {
     "name": "stdout",
     "output_type": "stream",
     "text": [
      "[9, 16, 19, 6, 1]\n"
     ]
    }
   ],
   "source": [
    "thrownDiceNumber = random.sample(range(1,21), k=5)\n",
    "print(thrownDiceNumber)"
   ]
  }
 ],
 "metadata": {
  "kernelspec": {
   "display_name": "Python 3",
   "language": "python",
   "name": "python3"
  },
  "language_info": {
   "codemirror_mode": {
    "name": "ipython",
    "version": 3
   },
   "file_extension": ".py",
   "mimetype": "text/x-python",
   "name": "python",
   "nbconvert_exporter": "python",
   "pygments_lexer": "ipython3",
   "version": "3.11.7"
  }
 },
 "nbformat": 4,
 "nbformat_minor": 2
}
