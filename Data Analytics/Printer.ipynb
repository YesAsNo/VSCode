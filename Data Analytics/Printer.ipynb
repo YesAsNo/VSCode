{
 "cells": [
  {
   "cell_type": "code",
   "execution_count": 17,
   "metadata": {},
   "outputs": [
    {
     "name": "stdout",
     "output_type": "stream",
     "text": [
      "Printer App\n",
      "This app is made by: Sanna\n",
      "The value of number1 is 34\n",
      "The value of number2 is 5\n",
      "34 * 5 = 170\n",
      "34 + 5 = 39\n",
      "34 / 5 = 6.8\n",
      "34 - 5 = 29\n"
     ]
    }
   ],
   "source": [
    "creator = \"Sanna\"\n",
    "number1 = 34\n",
    "number2 = 5\n",
    "multiplication = number1*number2\n",
    "addition = number1+number2\n",
    "division = number1/number2\n",
    "subtraction = number1-number2\n",
    "\n",
    "print(\"Printer App\")\n",
    "print(\"This app is made by:\", creator)\n",
    "#print(number1)\n",
    "print(\"The value of number1 is\", number1)\n",
    "print(\"The value of number2 is\", number2)\n",
    "print(number1,\"*\",number2,\"=\",multiplication)\n",
    "print(number1,\"+\",number2,\"=\",addition)\n",
    "print(number1,\"/\",number2,\"=\",division)\n",
    "print(number1,\"-\",number2,\"=\",subtraction)\n"
   ]
  }
 ],
 "metadata": {
  "kernelspec": {
   "display_name": "Python 3",
   "language": "python",
   "name": "python3"
  },
  "language_info": {
   "codemirror_mode": {
    "name": "ipython",
    "version": 3
   },
   "file_extension": ".py",
   "mimetype": "text/x-python",
   "name": "python",
   "nbconvert_exporter": "python",
   "pygments_lexer": "ipython3",
   "version": "3.11.7"
  }
 },
 "nbformat": 4,
 "nbformat_minor": 2
}
