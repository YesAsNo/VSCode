{
 "cells": [
  {
   "cell_type": "code",
   "execution_count": 141,
   "metadata": {},
   "outputs": [
    {
     "name": "stdout",
     "output_type": "stream",
     "text": [
      " Number 1 is 1 \n",
      " Number 2 is 2 \n",
      " Number 3 is 1\n",
      "Numbers are NOT equal\n",
      "Number 2 is not smaller than number 1\n",
      "and number 3\n",
      "Number 1 and 2 are not equal\n",
      "but 1 and 3 are\n"
     ]
    }
   ],
   "source": [
    "import numpy as np\n",
    "\n",
    "number1 = np.random.randint(0,3)\n",
    "number2 = np.random.randint(0,3)\n",
    "number3 = np.random.randint(0,3)\n",
    "\n",
    "print(\" Number 1 is\",number1,\"\\n\",\"Number 2 is\",number2,\"\\n\",\"Number 3 is\",number3)\n",
    "\n",
    "if number1 == number2:\n",
    "    print(\"Numbers are equal\")\n",
    "if number1 > number2:\n",
    "    print(\"Number 1 is greater than number 2\")\n",
    "if number1 >= number2:\n",
    "    print(\"Number 1 is greater than OR equal to number 2\")\n",
    "if number1 != number2:\n",
    "    print(\"Numbers are NOT equal\")\n",
    "\n",
    "# Part 2\n",
    "\n",
    "if number1 == number2 and number2 == number3:\n",
    "    print(\"All numbers are equal\")\n",
    "if number1 == number2 or number2 == number3:\n",
    "    print(\"Two of the numbers are equal\")\n",
    "if number1 > number2 and number1 > number3:\n",
    "    print(\"Number 1 is greater than all\")\n",
    "if not number1 > number2:\n",
    "    print(\"Number 2 is not smaller than number 1\")\n",
    "    if number2 > number3:\n",
    "        print(\"and number 3\")\n",
    "if not number1 == number2:\n",
    "    print(\"Number 1 and 2 are not equal\")\n",
    "    if number1 == number3:\n",
    "        print(\"but 1 and 3 are\")"
   ]
  },
  {
   "cell_type": "code",
   "execution_count": 212,
   "metadata": {},
   "outputs": [
    {
     "name": "stdout",
     "output_type": "stream",
     "text": [
      "Names are Thwluj Bennett Bennett\n",
      "Names are not the same\n",
      "Name 1 and 2 are not the same\n",
      "but 2 and 3 are\n"
     ]
    }
   ],
   "source": [
    "# Part 3\n",
    "import random\n",
    "import string\n",
    "# Random strings starting with uppercase followed by lowercase (for fun)\n",
    "def generator(size=6):\n",
    "    beginning = random.choices(string.ascii_uppercase, k=1) + random.choices(string.ascii_lowercase, k=size-1)\n",
    "    return ''.join(beginning)\n",
    "\n",
    "name1 = generator()\n",
    "name2 = \"Bennett\"\n",
    "name3 = \"Bennett\"\n",
    "\n",
    "print(\"Names are\",name1,name2,name3)\n",
    "\n",
    "if name1 == name2:\n",
    "    print(\"Names are the same\")\n",
    "if name1 != name2:\n",
    "    print(\"Names are not the same\")\n",
    "\n",
    "if not name1 == name2:\n",
    "    print(\"Name 1 and 2 are not the same\")\n",
    "    if name2 == name3:\n",
    "        print(\"but 2 and 3 are\")"
   ]
  },
  {
   "cell_type": "code",
   "execution_count": 103,
   "metadata": {},
   "outputs": [
    {
     "name": "stdout",
     "output_type": "stream",
     "text": [
      "[1, 0, 2]\n"
     ]
    }
   ],
   "source": [
    "# For multiple variables\n",
    "numbers = [number1,number2,number3]\n",
    "for number in range(len(numbers)):\n",
    "    numbers[number] = np.random.randint(0,10)\n",
    "print(numbers)"
   ]
  }
 ],
 "metadata": {
  "kernelspec": {
   "display_name": "Python 3",
   "language": "python",
   "name": "python3"
  },
  "language_info": {
   "codemirror_mode": {
    "name": "ipython",
    "version": 3
   },
   "file_extension": ".py",
   "mimetype": "text/x-python",
   "name": "python",
   "nbconvert_exporter": "python",
   "pygments_lexer": "ipython3",
   "version": "3.11.7"
  }
 },
 "nbformat": 4,
 "nbformat_minor": 2
}
