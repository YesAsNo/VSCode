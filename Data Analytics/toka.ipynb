{
 "cells": [
  {
   "cell_type": "code",
   "execution_count": 28,
   "metadata": {},
   "outputs": [
    {
     "data": {
      "text/plain": [
       "(768, 9)"
      ]
     },
     "execution_count": 28,
     "metadata": {},
     "output_type": "execute_result"
    }
   ],
   "source": [
    "import numpy as np\n",
    "from numpy import nan\n",
    "import pandas as pd\n",
    "import sklearn.datasets as sk\n",
    "#np.set_printoptions(threshold=np.inf)\n",
    "diabetes2 = pd.read_csv(\"./diabetes.csv\").to_numpy()\n",
    "diabetespd = pd.read_csv(\"./diabetes.csv\", header=None)\n",
    "\n",
    "diabetes = sk.load_diabetes().data\n",
    "dsize = diabetes2.shape\n",
    "diabetes2.shape"
   ]
  },
  {
   "cell_type": "code",
   "execution_count": 29,
   "metadata": {},
   "outputs": [
    {
     "name": "stdout",
     "output_type": "stream",
     "text": [
      "[  6.    148.     72.     35.        nan  33.6     0.627  50.      1.   ]\n"
     ]
    }
   ],
   "source": [
    "# Here we look for missing values from columns that shouldnt have zero values\n",
    "mask = np.zeros_like(diabetes2,bool)\n",
    "mask[diabetes2[:,:] == None] = True\n",
    "\n",
    "count = 0\n",
    "for x in range(dsize[0]):\n",
    "    for y in range(1, dsize[1]-1): # Loops from column 1 to 7\n",
    "        if (diabetes2[x][y] == 0):\n",
    "            count = count + 1\n",
    "            diabetes2[x][y] = nan  # Replaces zeros with NaN\n",
    "print(diabetes2[0])"
   ]
  },
  {
   "cell_type": "code",
   "execution_count": 30,
   "metadata": {},
   "outputs": [
    {
     "name": "stdout",
     "output_type": "stream",
     "text": [
      "9.43 %\n",
      "[]\n"
     ]
    }
   ],
   "source": [
    "# % of missing values\n",
    "prosentti = count/diabetes2.size*100\n",
    "print(\"%.2f\" % prosentti,\"%\")\n",
    "mask = diabetes2[:,[1,2,3,4,5,6,7]] == 0\n",
    "#diabetes2 [diabetes2[:,[1,2,3,4,5,6,7]] == 0] = nan\n",
    "diabetes2[:,[1,2,3,4,5,6,7]][mask] = nan\n",
    "print(diabetes2[:,[1,2,3,4,5,6,7]][mask])\n",
    "\n",
    "#print(mask[0])\n"
   ]
  }
 ],
 "metadata": {
  "kernelspec": {
   "display_name": "Python 3",
   "language": "python",
   "name": "python3"
  },
  "language_info": {
   "codemirror_mode": {
    "name": "ipython",
    "version": 3
   },
   "file_extension": ".py",
   "mimetype": "text/x-python",
   "name": "python",
   "nbconvert_exporter": "python",
   "pygments_lexer": "ipython3",
   "version": "3.11.7"
  }
 },
 "nbformat": 4,
 "nbformat_minor": 2
}
